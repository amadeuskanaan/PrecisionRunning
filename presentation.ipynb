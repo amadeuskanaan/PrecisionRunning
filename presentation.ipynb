{
 "cells": [
  {
   "cell_type": "code",
   "execution_count": 3,
   "metadata": {
    "slideshow": {
     "slide_type": "skip"
    }
   },
   "outputs": [
    {
     "data": {
      "text/html": [
       "\n",
       "           <script>\n",
       "               \n",
       "                function vct_load_lib(url, callback){\n",
       "                      if(typeof d3 !== 'undefined' &&\n",
       "                         url === 'http://d3js.org/d3.v3.min.js'){\n",
       "                        callback()\n",
       "                      }\n",
       "                      var s = document.createElement('script');\n",
       "                      s.src = url;\n",
       "                      s.async = true;\n",
       "                      s.onreadystatechange = s.onload = callback;\n",
       "                      s.onerror = function(){\n",
       "                        console.warn(\"failed to load library \" + url);\n",
       "                        };\n",
       "                      document.getElementsByTagName(\"head\")[0].appendChild(s);\n",
       "                };\n",
       "                var vincent_event = new CustomEvent(\n",
       "                  \"vincent_libs_loaded\",\n",
       "                  {bubbles: true, cancelable: true}\n",
       "                );\n",
       "                \n",
       "               function load_all_libs(){\n",
       "                  console.log('Loading Vincent libs...')\n",
       "                  vct_load_lib('http://d3js.org/d3.v3.min.js', function(){\n",
       "                  vct_load_lib('http://d3js.org/d3.geo.projection.v0.min.js', function(){\n",
       "                  vct_load_lib('http://wrobstory.github.io/d3-cloud/d3.layout.cloud.js', function(){\n",
       "                  vct_load_lib('http://wrobstory.github.io/vega/vega.v1.3.3.js', function(){\n",
       "                  window.dispatchEvent(vincent_event);\n",
       "                  });\n",
       "                  });\n",
       "                  });\n",
       "                  });\n",
       "               };\n",
       "               if(typeof define === \"function\" && define.amd){\n",
       "                    if (window['d3'] === undefined ||\n",
       "                        window['topojson'] === undefined){\n",
       "                        require.config(\n",
       "                            {paths: {\n",
       "                              d3: 'http://d3js.org/d3.v3.min',\n",
       "                              topojson: 'http://d3js.org/topojson.v1.min'\n",
       "                              }\n",
       "                            }\n",
       "                          );\n",
       "                        require([\"d3\"], function(d3){\n",
       "                            console.log('Loading Vincent from require.js...')\n",
       "                            window.d3 = d3;\n",
       "                            require([\"topojson\"], function(topojson){\n",
       "                                window.topojson = topojson;\n",
       "                                load_all_libs();\n",
       "                            });\n",
       "                        });\n",
       "                    } else {\n",
       "                        load_all_libs();\n",
       "                    };\n",
       "               }else{\n",
       "                    console.log('Require.js not found, loading manually...')\n",
       "                    load_all_libs();\n",
       "               };\n",
       "\n",
       "           </script>"
      ],
      "text/plain": [
       "<IPython.core.display.HTML object>"
      ]
     },
     "metadata": {},
     "output_type": "display_data"
    },
    {
     "data": {
      "text/html": [
       "\n",
       "           <script>\n",
       "               \n",
       "                function vct_load_lib(url, callback){\n",
       "                      if(typeof d3 !== 'undefined' &&\n",
       "                         url === 'http://d3js.org/d3.v3.min.js'){\n",
       "                        callback()\n",
       "                      }\n",
       "                      var s = document.createElement('script');\n",
       "                      s.src = url;\n",
       "                      s.async = true;\n",
       "                      s.onreadystatechange = s.onload = callback;\n",
       "                      s.onerror = function(){\n",
       "                        console.warn(\"failed to load library \" + url);\n",
       "                        };\n",
       "                      document.getElementsByTagName(\"head\")[0].appendChild(s);\n",
       "                };\n",
       "                var vincent_event = new CustomEvent(\n",
       "                  \"vincent_libs_loaded\",\n",
       "                  {bubbles: true, cancelable: true}\n",
       "                );\n",
       "                \n",
       "               function load_all_libs(){\n",
       "                  console.log('Loading Vincent libs...')\n",
       "                  vct_load_lib('http://d3js.org/d3.v3.min.js', function(){\n",
       "                  vct_load_lib('http://d3js.org/d3.geo.projection.v0.min.js', function(){\n",
       "                  vct_load_lib('http://wrobstory.github.io/d3-cloud/d3.layout.cloud.js', function(){\n",
       "                  vct_load_lib('http://wrobstory.github.io/vega/vega.v1.3.3.js', function(){\n",
       "                  window.dispatchEvent(vincent_event);\n",
       "                  });\n",
       "                  });\n",
       "                  });\n",
       "                  });\n",
       "               };\n",
       "               if(typeof define === \"function\" && define.amd){\n",
       "                    if (window['d3'] === undefined ||\n",
       "                        window['topojson'] === undefined){\n",
       "                        require.config(\n",
       "                            {paths: {\n",
       "                              d3: 'http://d3js.org/d3.v3.min',\n",
       "                              topojson: 'http://d3js.org/topojson.v1.min'\n",
       "                              }\n",
       "                            }\n",
       "                          );\n",
       "                        require([\"d3\"], function(d3){\n",
       "                            console.log('Loading Vincent from require.js...')\n",
       "                            window.d3 = d3;\n",
       "                            require([\"topojson\"], function(topojson){\n",
       "                                window.topojson = topojson;\n",
       "                                load_all_libs();\n",
       "                            });\n",
       "                        });\n",
       "                    } else {\n",
       "                        load_all_libs();\n",
       "                    };\n",
       "               }else{\n",
       "                    console.log('Require.js not found, loading manually...')\n",
       "                    load_all_libs();\n",
       "               };\n",
       "\n",
       "           </script>"
      ],
      "text/plain": [
       "<IPython.core.display.HTML object>"
      ]
     },
     "metadata": {},
     "output_type": "display_data"
    }
   ],
   "source": [
    "'__authour__ == Kanaan'\n",
    "\n",
    "%matplotlib inline\n",
    "import os,sys\n",
    "import numpy as np\n",
    "import pandas as pd \n",
    "import seaborn as sns \n",
    "import matplotlib\n",
    "import matplotlib.pyplot as plt \n",
    "import matplotlib.gridspec as gridspec\n",
    "from mpl_toolkits.mplot3d import Axes3D\n",
    "\n",
    "from sklearn import metrics\n",
    "from sklearn import preprocessing\n",
    "from sklearn.cluster import AgglomerativeClustering\n",
    "from sklearn.decomposition import PCA, KernelPCA\n",
    "from sklearn.manifold import Isomap, TSNE, LocallyLinearEmbedding, MDS, SpectralEmbedding\n",
    "import scipy.stats as ss\n",
    "import sklearn.metrics as sm\n",
    "from scipy.cluster.hierarchy import inconsistent, linkage, dendrogram\n",
    "\n",
    "sys.path.append('./')\n",
    "from utils import *\n",
    "from preprocess import *\n",
    "from plotting import *\n",
    "from cluster import *\n",
    "\n",
    "# set some viz options\n",
    "pd.options.display.max_columns=100\n",
    "sns.set_style('whitegrid')\n",
    "\n",
    "import vincent\n",
    "vincent.core.initialize_notebook()\n",
    "vincent.initialize_notebook()\n",
    "\n",
    "\n"
   ]
  },
  {
   "cell_type": "markdown",
   "metadata": {
    "slideshow": {
     "slide_type": "slide"
    }
   },
   "source": [
    "# Ahmad Seif Kanaan -  PrecisionRunning Project \n",
    "-  Digital Sensing Device = iPhone7-2017-09\n",
    "-  Running Data    = Nike+RunClub\n",
    "-  Health Data     = Apple HealthKit\n",
    "\n",
    "#  Features\n",
    "- Nike+RunClub: Distance (km)\n",
    "- Nike+RunClub: Speed-Average (m/s)\n",
    "- Nike+RunClub: Speed-Max (m/s)\n",
    "- Nike+RunClub: Tempo (min/km)\n",
    "- Nike+RunClub: Calories Burnt(kcal)\n",
    "- AppleHealthKit: Mass (kg)\n",
    "- AppleHealthKit: Walking+Running (km)\n",
    "- AppleHealthKit: Elevation Gain (m)\n",
    "- AppleHealthKit: Steps (count)\n",
    "- AppleHealthKit: Sleep (hr:min:sec)\n",
    "\n",
    "# Objectives\n",
    "- Track training progress \n",
    "- Inspect improvement in total running distance and pace\n",
    "- Inpsect relationship between Running (Distance,Speed) and time (month,week,day,hour) features \n",
    "- Inpsect relationship between Elevation Gain and time (month,week,day,hour) features \n",
    "- Cluster Days based on multiple-features\n"
   ]
  },
  {
   "cell_type": "markdown",
   "metadata": {
    "slideshow": {
     "slide_type": "subslide"
    }
   },
   "source": [
    "# Parse Sensor xml files "
   ]
  },
  {
   "cell_type": "code",
   "execution_count": 4,
   "metadata": {
    "slideshow": {
     "slide_type": "fragment"
    }
   },
   "outputs": [],
   "source": [
    "# for extraction tools see https://github.com/amadeuskanaan/PrecisionRunning/blob/master/extract.py"
   ]
  },
  {
   "cell_type": "markdown",
   "metadata": {
    "slideshow": {
     "slide_type": "slide"
    }
   },
   "source": [
    "# Import RAW CSVs"
   ]
  },
  {
   "cell_type": "code",
   "execution_count": 5,
   "metadata": {
    "slideshow": {
     "slide_type": "slide"
    }
   },
   "outputs": [],
   "source": [
    "# import data \n",
    "nike_run = pd.read_csv('Data/NikeRunClub.csv', index_col = 0)\n",
    "apple_WalkRun = pd.read_csv('Data/DistanceWalkingRunning.csv')\n",
    "apple_BodyMass = pd.read_csv('Data/BodyMass.csv')\n",
    "apple_BodyFat = pd.read_csv('Data/BodyFatPercentage.csv')\n",
    "apple_steps = pd.read_csv('Data/StepCount.csv')\n",
    "apple_sleep = pd.read_csv('Data/SleepAnalysis.csv')\n",
    "apple_climb = pd.read_csv('Data/FlightsClimbed.csv')"
   ]
  }
 ],
 "metadata": {
  "celltoolbar": "Slideshow",
  "kernelspec": {
   "display_name": "Python 2",
   "language": "python",
   "name": "python2"
  },
  "language_info": {
   "codemirror_mode": {
    "name": "ipython",
    "version": 2
   },
   "file_extension": ".py",
   "mimetype": "text/x-python",
   "name": "python",
   "nbconvert_exporter": "python",
   "pygments_lexer": "ipython2",
   "version": "2.7.13"
  }
 },
 "nbformat": 4,
 "nbformat_minor": 2
}
