{
 "cells": [
  {
   "cell_type": "markdown",
   "metadata": {
    "slideshow": {
     "slide_type": "slide"
    }
   },
   "source": [
    "<center> <img src=\"./FIGS/PrecisionRunning_logox.png\" alt=\"Drawing\" width='85%'> <center>\n"
   ]
  },
  {
   "cell_type": "markdown",
   "metadata": {
    "slideshow": {
     "slide_type": "slide"
    }
   },
   "source": [
    "# Objectives\n",
    "- Utilize Mobile Sensor data to track training progress\n",
    "- Inspect Running feature changes over time\n",
    "- Inpsect Health feature relationships with Running\n",
    "- Inspect the structure of daily activity routine using available features \n",
    "- Construct an improved training regimen based on findings\n"
   ]
  },
  {
   "cell_type": "markdown",
   "metadata": {
    "slideshow": {
     "slide_type": "slide"
    }
   },
   "source": [
    "#  Digital Sensor Data  \n",
    "- Device = iPhone7-2016-09 \n",
    "- Running Data = Nike+RunClub \n",
    "- Health Data = Apple HealthKit\n",
    "\n",
    "#  Available Features\n",
    "\n",
    "- Nike+RunClub:\n",
    "    - Total Distance (km)\n",
    "    - Average Speed(m/s)\n",
    "    - Calories Burnt(kcal)\n",
    "\n",
    "- AppleHealthKit: \n",
    "    - Mass (kg)\n",
    "    - Walking+Running (km)\n",
    "    - Elevation Gain (m)\n",
    "    - Steps (count)"
   ]
  },
  {
   "cell_type": "markdown",
   "metadata": {
    "slideshow": {
     "slide_type": "slide"
    }
   },
   "source": [
    "# Pipeline\n",
    "1. Parse Sensor XML data (Nike+RunClub & AppleHealthKit) \n",
    "2. Preprocess feature dataframes \n",
    "3. Map running trails based on geographic coordinates\n",
    "4. Plot Running feature changes over time\n",
    "5. Plot Health feature changes over time\n",
    "6. Investigate association between Running and Health features \n",
    "7. Apply Heirarchical Clustering and Manifold Learning tehcniques to inspect daily activity structure "
   ]
  },
  {
   "cell_type": "markdown",
   "metadata": {
    "slideshow": {
     "slide_type": "slide"
    }
   },
   "source": [
    "<center> <img src=\"./FIGS/PrecisionRunning_World.png\" alt=\"Drawing\" width='120%'> <center>\n"
   ]
  },
  {
   "cell_type": "markdown",
   "metadata": {
    "slideshow": {
     "slide_type": "slide"
    }
   },
   "source": [
    "<center> <img src=\"./FIGS/PrecisionRunning_Distance.png\" alt=\"Drawing\" width='120%'> <center>\n"
   ]
  },
  {
   "cell_type": "markdown",
   "metadata": {
    "slideshow": {
     "slide_type": "slide"
    }
   },
   "source": [
    "<center> <img src=\"./FIGS/PrecisionRunning_Tempo.png\" alt=\"Drawing\" width='100%'> <center>\n"
   ]
  },
  {
   "cell_type": "markdown",
   "metadata": {
    "slideshow": {
     "slide_type": "slide"
    }
   },
   "source": [
    "<center> <img src=\"./FIGS/PrecisionRunning_Elevation.png\" alt=\"Drawing\" width='75%'> <center>\n"
   ]
  },
  {
   "cell_type": "markdown",
   "metadata": {
    "slideshow": {
     "slide_type": "slide"
    }
   },
   "source": [
    "<center> <img src=\"./FIGS/PrecisionRunning_Mass.png\" alt=\"Drawing\" width='75%'> <center>\n"
   ]
  },
  {
   "cell_type": "markdown",
   "metadata": {
    "slideshow": {
     "slide_type": "slide"
    }
   },
   "source": [
    "# Lets look at daily activity structure \n"
   ]
  },
  {
   "cell_type": "markdown",
   "metadata": {
    "collapsed": true,
    "slideshow": {
     "slide_type": "fragment"
    }
   },
   "source": [
    "### 1- Inspect available samples and features. \n",
    "- Break data into (a) All-Days and (b) Running-Days only"
   ]
  },
  {
   "cell_type": "markdown",
   "metadata": {
    "collapsed": true,
    "slideshow": {
     "slide_type": "fragment"
    }
   },
   "source": [
    "### 2- Clustering: \n",
    "- Apply Hierarchical Clustering (Ward linkage & euclidian affinity)\n",
    "- For simplicity, take k=3 clusters"
   ]
  },
  {
   "cell_type": "markdown",
   "metadata": {
    "slideshow": {
     "slide_type": "fragment"
    }
   },
   "source": [
    "### 3- Manifold learning for data reduction\n",
    "- Decompose data into low-dimentional embedding space via Isomap\n",
    "- Inspect cluster structure along the principal axes of variation"
   ]
  },
  {
   "cell_type": "markdown",
   "metadata": {
    "slideshow": {
     "slide_type": "fragment"
    }
   },
   "source": [
    "### 4- Learn something new\n",
    "- Subtype daily activity based on feature differences in each cluster\n"
   ]
  },
  {
   "cell_type": "markdown",
   "metadata": {
    "slideshow": {
     "slide_type": "slide"
    }
   },
   "source": [
    "<center> <img src=\"./FIGS/PrecisionRunning_samples_features.png\" alt=\"Drawing\" width='100%'> <center>\n"
   ]
  },
  {
   "cell_type": "markdown",
   "metadata": {
    "slideshow": {
     "slide_type": "slide"
    }
   },
   "source": [
    "<center> <img src=\"./FIGS/PrecisionRunning_cluster_all.png\" alt=\"Drawing\" width='100%'> <center>\n"
   ]
  },
  {
   "cell_type": "markdown",
   "metadata": {
    "slideshow": {
     "slide_type": "slide"
    }
   },
   "source": [
    "<center> <img src=\"./FIGS/PrecisionRunning_cluster_run.png\" alt=\"Drawing\" width='100%'> <center>\n"
   ]
  },
  {
   "cell_type": "markdown",
   "metadata": {
    "slideshow": {
     "slide_type": "slide"
    }
   },
   "source": [
    "# Main Findings:"
   ]
  },
  {
   "cell_type": "markdown",
   "metadata": {
    "slideshow": {
     "slide_type": "slide"
    }
   },
   "source": [
    "### 1- Total running distance and average speed are increasing over time. \n",
    "- Initial objectives achieved\n",
    "- Target next milestones"
   ]
  },
  {
   "cell_type": "markdown",
   "metadata": {
    "slideshow": {
     "slide_type": "fragment"
    }
   },
   "source": [
    "### 2- Daily (N=488) structure is broken down into:\n",
    "- (a) Walking-Days \n",
    "- (b) Running-Days\n",
    "- (c) Extreme activity days (Running at high pace with elevation)."
   ]
  },
  {
   "cell_type": "markdown",
   "metadata": {
    "slideshow": {
     "slide_type": "fragment"
    }
   },
   "source": [
    "### 3- Running day (N=245) structure are broken down into:\n",
    "- (a) Short distance (~5km) with fast pace (5:22 min/km) running days \n",
    "- (b) Medium distance (~10km) with fast pace (5:22 min/km) running days \n",
    "- (c) Long distance (10+km) with high elevation gain."
   ]
  },
  {
   "cell_type": "markdown",
   "metadata": {
    "slideshow": {
     "slide_type": "fragment"
    }
   },
   "source": [
    "### - For the most part, this is in line with the training regimen which includes:\n",
    "- (a) 5km fast pace runs\n",
    "- (b) 10km recovery runs\n",
    "- (c) HITT: High-intensity Interval runs (5-10km)\n",
    "- (d) Long-distance mountain trail runs."
   ]
  },
  {
   "cell_type": "markdown",
   "metadata": {
    "slideshow": {
     "slide_type": "slide"
    }
   },
   "source": [
    "# Limitations:\n"
   ]
  },
  {
   "cell_type": "markdown",
   "metadata": {
    "slideshow": {
     "slide_type": "fragment"
    }
   },
   "source": [
    "#### - Digital sensor measurement accuracy\n",
    "- Compare measured runnning distance between 2-3 devices.\n",
    "- Find a way to measure Elevation Gain for indoor runs.\n",
    "- Bad measurment of distance and elevation would impact progress and may have affected the clustering."
   ]
  },
  {
   "cell_type": "markdown",
   "metadata": {
    "slideshow": {
     "slide_type": "fragment"
    }
   },
   "source": [
    "#### - Number of samples and Seasonal effects\n",
    "- Number of acquired samples are not harmonized over the different seasons.\n",
    "- Samples include N=2 Winter/Fall months and N=1 Summer/Spring months.\n",
    "- Lack of samples acquired at high tempreture may influence mean feature values and tracking progres. "
   ]
  },
  {
   "cell_type": "markdown",
   "metadata": {
    "slideshow": {
     "slide_type": "fragment"
    }
   },
   "source": [
    "####  - Number of features \n",
    "- Number of features may not be conducive enough to establish daily routine. \n",
    "- Nevertheless, the features were specific to movement and broke down the data into logical groups.\n",
    "- More interesting daily routine structures may arise if other physiological variables are included. \n"
   ]
  },
  {
   "cell_type": "markdown",
   "metadata": {
    "slideshow": {
     "slide_type": "slide"
    }
   },
   "source": [
    "# Future Directions:\n"
   ]
  },
  {
   "cell_type": "markdown",
   "metadata": {
    "slideshow": {
     "slide_type": "fragment"
    }
   },
   "source": [
    "- Improve Pace:\n",
    "    - Inspect improvments in 1km/5km/10km pace for the respective runs.\n",
    "\n",
    "- Digital Sensor:\n",
    "    - Study the landscape and identify more accurate measurment devices to track speed and elevation.\n"
   ]
  },
  {
   "cell_type": "markdown",
   "metadata": {
    "slideshow": {
     "slide_type": "slide"
    }
   },
   "source": [
    "<center> <h1> Thank you for your attention! <h1><center>\n",
    "<center> <img src=\"./FIGS/X1.jpg\" alt=\"Drawing\" width='100%'> <center>\n"
   ]
  }
 ],
 "metadata": {
  "celltoolbar": "Slideshow",
  "kernelspec": {
   "display_name": "Python 2",
   "language": "python",
   "name": "python2"
  },
  "language_info": {
   "codemirror_mode": {
    "name": "ipython",
    "version": 2
   },
   "file_extension": ".py",
   "mimetype": "text/x-python",
   "name": "python",
   "nbconvert_exporter": "python",
   "pygments_lexer": "ipython2",
   "version": "2.7.13"
  }
 },
 "nbformat": 4,
 "nbformat_minor": 1
}
