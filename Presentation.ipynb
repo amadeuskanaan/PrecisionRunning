{
 "cells": [
  {
   "cell_type": "markdown",
   "metadata": {
    "slideshow": {
     "slide_type": "slide"
    }
   },
   "source": [
    "<center> <img src=\"./FIGS/PrecisionRunning_logox.png\" alt=\"Drawing\" width='85%'> <center>\n"
   ]
  },
  {
   "cell_type": "markdown",
   "metadata": {
    "slideshow": {
     "slide_type": "slide"
    }
   },
   "source": [
    "# Objectives\n",
    "- Utilize Mobile Sensor data to  <span style=\"color:red\"> track training progress</span>\n",
    "- Inspect <span style=\"color:red\"> Running</span> feature <span style=\"color:red\"> changes</span> over time\n",
    "- Inpsect <span style=\"color:red\"> Health</span> feature  <span style=\"color:red\"> relationships</span> with Running\n",
    "- Inspect <span style=\"color:red\"> Daily Activity Routine</span> structure using available features \n",
    "- <span style=\"color:red\"> Improve training regimen</span>  based on findings"
   ]
  },
  {
   "cell_type": "markdown",
   "metadata": {
    "slideshow": {
     "slide_type": "slide"
    }
   },
   "source": [
    "#  Digital Sensor Data  \n",
    "- Device = iPhone7-2016-09 \n",
    "- Running Data = <span style=\"color:blue\">Nike+RunClub</span>\n",
    "- Health Data = <span style=\"color:blue\">Apple HealthKit</span>\n",
    "\n",
    "#  Available Features\n",
    "\n",
    "- <span style=\"color:blue\">Nike+RunClub:</span>\n",
    "    - Total Distance (km)\n",
    "    - Average Speed (m/s)\n",
    "    - Calories Burnt (kcal)\n",
    "\n",
    "- <span style=\"color:blue\">Apple HealthKit:</span> \n",
    "    - Mass (kg)\n",
    "    - Walking+Running (km)\n",
    "    - Elevation Gain (m)\n",
    "    - Steps (count)"
   ]
  },
  {
   "cell_type": "markdown",
   "metadata": {
    "slideshow": {
     "slide_type": "slide"
    }
   },
   "source": [
    "# Pipeline\n",
    "1. Parse Sensor XML data (Nike+RunClub & AppleHealthKit) \n",
    "2. Preprocess feature dataframes \n",
    "3. Map running trails based on geographic coordinates\n",
    "4. Plot Running feature changes over time\n",
    "5. Plot Health feature changes over time\n",
    "6. Investigate association between Running and Health features \n",
    "7. Apply Heirarchical Clustering and Manifold Learning tehcniques to inspect daily activity structure \n",
    "\n",
    "#### Github repository (Python) \n",
    "- https://github.com/amadeuskanaan/PrecisionRunning\n",
    "\n",
    "#### Analysis notebook (IPython)\n",
    "- https://github.com/amadeuskanaan/PrecisionRunning/blob/master/analyze.ipynb"
   ]
  },
  {
   "cell_type": "markdown",
   "metadata": {
    "slideshow": {
     "slide_type": "slide"
    }
   },
   "source": [
    "<center> <img src=\"./FIGS/PrecisionRunning_World.png\" alt=\"Drawing\" width='120%'> <center>\n"
   ]
  },
  {
   "cell_type": "markdown",
   "metadata": {
    "slideshow": {
     "slide_type": "slide"
    }
   },
   "source": [
    "<center> <img src=\"./FIGS/PrecisionRunning_Distance.png\" alt=\"Drawing\" width='120%'> <center>\n"
   ]
  },
  {
   "cell_type": "markdown",
   "metadata": {
    "slideshow": {
     "slide_type": "slide"
    }
   },
   "source": [
    "<center> <img src=\"./FIGS/PrecisionRunning_Tempo.png\" alt=\"Drawing\" width='100%'> <center>"
   ]
  },
  {
   "cell_type": "markdown",
   "metadata": {
    "slideshow": {
     "slide_type": "slide"
    }
   },
   "source": [
    "<center> <img src=\"./FIGS/PrecisionRunning_Elevation.png\" alt=\"Drawing\" width='75%'> <center>\n"
   ]
  },
  {
   "cell_type": "markdown",
   "metadata": {
    "slideshow": {
     "slide_type": "slide"
    }
   },
   "source": [
    "<center> <img src=\"./FIGS/PrecisionRunning_Mass.png\" alt=\"Drawing\" width='75%'> <center>\n"
   ]
  },
  {
   "cell_type": "markdown",
   "metadata": {
    "slideshow": {
     "slide_type": "slide"
    }
   },
   "source": [
    "# Let's look at daily activity structure \n"
   ]
  },
  {
   "cell_type": "markdown",
   "metadata": {
    "collapsed": true,
    "slideshow": {
     "slide_type": "fragment"
    }
   },
   "source": [
    "### 1- Inspect available samples and features. \n",
    "- Break data into (a) All-Days and (b) Running-Days only"
   ]
  },
  {
   "cell_type": "markdown",
   "metadata": {
    "collapsed": true,
    "slideshow": {
     "slide_type": "fragment"
    }
   },
   "source": [
    "### 2- Clustering: \n",
    "- Apply Hierarchical Clustering (Ward for linkage & Euclidean for affinity)\n",
    "- For simplicity, take k=3 clusters"
   ]
  },
  {
   "cell_type": "markdown",
   "metadata": {
    "slideshow": {
     "slide_type": "fragment"
    }
   },
   "source": [
    "### 3- Manifold learning\n",
    "- Reduce multi-dimentionality non-linearly via Isomap embedding \n",
    "- Inspect cluster structure along the principal axes of variation"
   ]
  },
  {
   "cell_type": "markdown",
   "metadata": {
    "slideshow": {
     "slide_type": "fragment"
    }
   },
   "source": [
    "### 4- Learn something new\n",
    "- Subtype daily activity based on feature differences in each cluster\n"
   ]
  },
  {
   "cell_type": "markdown",
   "metadata": {
    "slideshow": {
     "slide_type": "slide"
    }
   },
   "source": [
    "<center> <img src=\"./FIGS/PrecisionRunning_samples_features.png\" alt=\"Drawing\" width='100%'> <center>\n"
   ]
  },
  {
   "cell_type": "markdown",
   "metadata": {
    "slideshow": {
     "slide_type": "slide"
    }
   },
   "source": [
    "<center> <img src=\"./FIGS/PrecisionRunning_cluster_all.png\" alt=\"Drawing\" width='100%'> <center>\n"
   ]
  },
  {
   "cell_type": "markdown",
   "metadata": {
    "slideshow": {
     "slide_type": "slide"
    }
   },
   "source": [
    "<center> <img src=\"./FIGS/PrecisionRunning_cluster_run.png\" alt=\"Drawing\" width='100%'> <center>\n"
   ]
  },
  {
   "cell_type": "markdown",
   "metadata": {
    "slideshow": {
     "slide_type": "slide"
    }
   },
   "source": [
    "<center> <h1> Main Findings <h1> <center>"
   ]
  },
  {
   "cell_type": "markdown",
   "metadata": {
    "slideshow": {
     "slide_type": "slide"
    }
   },
   "source": [
    "### 1- Total running distance and average speed are improving over time. \n",
    "- Initial objectives achieved\n",
    "- Target next milestones"
   ]
  },
  {
   "cell_type": "markdown",
   "metadata": {
    "slideshow": {
     "slide_type": "fragment"
    }
   },
   "source": [
    "### 2- All-Days (N=488) structure is broken down into:\n",
    "- (a) Walking-Days \n",
    "- (b) Running-Days\n",
    "- (c) Extreme activity days (Long distance Running with high Elevation Gain)"
   ]
  },
  {
   "cell_type": "markdown",
   "metadata": {
    "slideshow": {
     "slide_type": "fragment"
    }
   },
   "source": [
    "### 3- Running-Days (N=245) structure is broken down into:\n",
    "- (a) Short distance (~5km) with fast pace (5:22 min/km) running days \n",
    "- (b) Medium distance (~10km) with fast pace (5:22 min/km) running days \n",
    "- (c) Long distance (10+km) with high elevation gain"
   ]
  },
  {
   "cell_type": "markdown",
   "metadata": {
    "slideshow": {
     "slide_type": "fragment"
    }
   },
   "source": [
    "- For the most part, this is in line with the training regimen which includes:\n",
    "    - (a) Tempo Runs: ~5km \n",
    "    - (b) Recovery Runs: 7~10km\n",
    "    - (c) HITT: High-Intensity Interval Training runs (5-10km)\n",
    "    - (d) Long-distance mountain runs "
   ]
  },
  {
   "cell_type": "markdown",
   "metadata": {
    "slideshow": {
     "slide_type": "slide"
    }
   },
   "source": [
    "# Limitations:\n"
   ]
  },
  {
   "cell_type": "markdown",
   "metadata": {
    "slideshow": {
     "slide_type": "fragment"
    }
   },
   "source": [
    "- <span style=\"color:red\"><b>Mobile sensor measurement accuracy:<b></span> \n",
    "    - <span style=\"font-size: 0.6em;\">Bad measurment of distance and elevation would impact progress and may have affected the clustering.</span>\n",
    "    - <span style=\"font-size: 0.6em;\">Compare measured runnning distance between 2-3 devices. Check what other Quantified-Self enthusiasts have done.</span>\n",
    "    - <span style=\"color:blue;font-size: 0.6em;\">Find a way to measure Elevation Gain for indoor runs.</span>"
   ]
  },
  {
   "cell_type": "markdown",
   "metadata": {
    "slideshow": {
     "slide_type": "fragment"
    }
   },
   "source": [
    "- <span style=\"color:red\"><b>Number of samples and Seasonal effects:<b></span> \n",
    "    - <span style=\"font-size: 0.6em;\">Number of acquired samples are not harmonized over the different seasons.</span>\n",
    "    - <span style=\"font-size: 0.6em;\">Samples include N=2 Winter/Fall months and N=1 Summer/Spring months.</span>\n",
    "    - <span style=\"font-size: 0.6em;\">Lack of samples acquired at high tempreture may influence mean feature values and tracking progres.</span>"
   ]
  },
  {
   "cell_type": "markdown",
   "metadata": {
    "slideshow": {
     "slide_type": "fragment"
    }
   },
   "source": [
    "- <span style=\"color:red\"><b>Number of features:<b></span> \n",
    "    - <span style=\"font-size: 0.6em;\">Number of features may not be conducive enough to establish daily routine.</span>\n",
    "    - <span style=\"font-size: 0.6em;\">Nevertheless, the features were specific to Running+Walking and broke down the data into logical groups.</span>\n"
   ]
  },
  {
   "cell_type": "markdown",
   "metadata": {
    "slideshow": {
     "slide_type": "fragment"
    }
   },
   "source": [
    "- <span style=\"color:red\"><b>Lack of physiological measurments:<b></span> \n",
    "    - <span style=\"font-size: 0.6em;\">More interesting daily routine structures may arise if other physiological variables are included.</span>\n",
    "    - <span style=\"font-size: 0.6em;\">Sleep, nutrition and Heart-rate patterns may improve tracking progress.</span> "
   ]
  },
  {
   "cell_type": "markdown",
   "metadata": {
    "slideshow": {
     "slide_type": "slide"
    }
   },
   "source": [
    "# Future Directions:\n"
   ]
  },
  {
   "cell_type": "markdown",
   "metadata": {
    "slideshow": {
     "slide_type": "fragment"
    }
   },
   "source": [
    "- <span style=\"color:blue\"><b>Work on Tempo:<b></span> \n",
    "    - Inspect Tempo changes over time for 5km/10km and Mountain runs.\n",
    "\n",
    "-  <span style=\"color:blue\"><b>Work on Elevation Gain:<b></span> \n",
    "    - Add more mountain runs.\n",
    "    \n",
    "-  <span style=\"color:blue\"><b>Improve Digital measurement accuracy:<b></span> \n",
    "    - Study the landscape (Medical Futurist, Quantified Self etc..) and identify more accurate Mobile Sensor Devices to track distance and elevation.\n",
    "    \n",
    "- <span style=\"color:blue\"><b>Record Physiological measurements:<b></span> \n",
    "    - Construct a simple, feasible and time-friendly method to track heart-rate, nutrition and sleep patterns.\n"
   ]
  },
  {
   "cell_type": "markdown",
   "metadata": {
    "slideshow": {
     "slide_type": "slide"
    }
   },
   "source": [
    "<center> <h1> Thank you for your attention! <h1><center>\n",
    "<center> <img src=\"./FIGS/X1.jpg\" alt=\"Drawing\" width='100%'> <center>\n"
   ]
  }
 ],
 "metadata": {
  "celltoolbar": "Slideshow",
  "kernelspec": {
   "display_name": "Python 2",
   "language": "python",
   "name": "python2"
  },
  "language_info": {
   "codemirror_mode": {
    "name": "ipython",
    "version": 2
   },
   "file_extension": ".py",
   "mimetype": "text/x-python",
   "name": "python",
   "nbconvert_exporter": "python",
   "pygments_lexer": "ipython2",
   "version": "2.7.13"
  }
 },
 "nbformat": 4,
 "nbformat_minor": 1
}
