{
 "cells": [
  {
   "cell_type": "markdown",
   "metadata": {
    "slideshow": {
     "slide_type": "slide"
    }
   },
   "source": [
    "<center> <img src=\"./FIGS/PrecisionRunning_logox.png\" alt=\"Drawing\" width='90%'> <center>\n"
   ]
  },
  {
   "cell_type": "markdown",
   "metadata": {
    "slideshow": {
     "slide_type": "slide"
    }
   },
   "source": [
    "# Objectives\n",
    "- Utilize Digital Sensor data to track training progress\n",
    "- Inspect Running feature changes over time\n",
    "- Inpsect Health feature relationships with Running\n",
    "- Inspect the structure of daily activity using available features \n",
    "- Construct an improved training regimen based on findings\n"
   ]
  },
  {
   "cell_type": "markdown",
   "metadata": {
    "slideshow": {
     "slide_type": "slide"
    }
   },
   "source": [
    "#  Digital Sensor Data  \n",
    "- Device = iPhone7-2016-09 \n",
    "- Running Data = Nike+RunClub \n",
    "- Health Data = Apple HealthKit\n",
    "\n",
    "#  Available Features\n",
    "\n",
    "- Nike+RunClub:\n",
    "    - Total Distance (km)\n",
    "    - Average Speed(m/s)\n",
    "    - Calories Burnt(kcal)\n",
    "\n",
    "- AppleHealthKit: \n",
    "    - Mass (kg)\n",
    "    - Walking+Running (km)\n",
    "    - Elevation Gain (m)\n",
    "    - Steps (count)"
   ]
  },
  {
   "cell_type": "markdown",
   "metadata": {
    "slideshow": {
     "slide_type": "slide"
    }
   },
   "source": [
    "# Pipeline\n",
    "1. Parse Sensor XML data (NIke+RunClub & AppleHealthKit) \n",
    "2. Preprocess feature dataframes \n",
    "3. Map running trails based on geographic coordinates\n",
    "4. Plot Running feature changes over time\n",
    "5. Plot Health feature changes over time\n",
    "6. Investigate association between Running and Health features \n",
    "7. Apply Heirarchical clustering and Manifold learning tehcniques to inspect daily activity structure "
   ]
  },
  {
   "cell_type": "markdown",
   "metadata": {
    "slideshow": {
     "slide_type": "slide"
    }
   },
   "source": [
    "<center> <img src=\"./FIGS/PrecisionRunning_World.png\" alt=\"Drawing\" width='120%'> <center>\n"
   ]
  },
  {
   "cell_type": "markdown",
   "metadata": {
    "slideshow": {
     "slide_type": "slide"
    }
   },
   "source": [
    "<center> <img src=\"./FIGS/PrecisionRunning_Distance.png\" alt=\"Drawing\" width='120%'> <center>\n"
   ]
  },
  {
   "cell_type": "markdown",
   "metadata": {
    "slideshow": {
     "slide_type": "slide"
    }
   },
   "source": [
    "<center> <img src=\"./FIGS/PrecisionRunning_Tempo.png\" alt=\"Drawing\" width='100%'> <center>\n"
   ]
  },
  {
   "cell_type": "markdown",
   "metadata": {
    "slideshow": {
     "slide_type": "slide"
    }
   },
   "source": [
    "<center> <img src=\"./FIGS/PrecisionRunning_Elevation.png\" alt=\"Drawing\" width='75%'> <center>\n"
   ]
  },
  {
   "cell_type": "markdown",
   "metadata": {
    "slideshow": {
     "slide_type": "slide"
    }
   },
   "source": [
    "<center> <img src=\"./FIGS/PrecisionRunning_Mass.png\" alt=\"Drawing\" width='75%'> <center>\n"
   ]
  },
  {
   "cell_type": "markdown",
   "metadata": {
    "slideshow": {
     "slide_type": "slide"
    }
   },
   "source": [
    "# Lets look at daily activity structure \n"
   ]
  },
  {
   "cell_type": "markdown",
   "metadata": {
    "collapsed": true,
    "slideshow": {
     "slide_type": "fragment"
    }
   },
   "source": [
    "1- Inspect available samples and features"
   ]
  },
  {
   "cell_type": "markdown",
   "metadata": {
    "slideshow": {
     "slide_type": "fragment"
    }
   },
   "source": [
    "2- Break feature data into \n",
    "- a - All available days \n",
    "- b - Running Days only"
   ]
  },
  {
   "cell_type": "markdown",
   "metadata": {
    "collapsed": true,
    "slideshow": {
     "slide_type": "fragment"
    }
   },
   "source": [
    "3- Clustering: \n",
    "- Apply Heirarchical clustering (Ward linkage & euclidian affinity)\n",
    "- For simplicity, take k=3 clusters"
   ]
  },
  {
   "cell_type": "markdown",
   "metadata": {
    "slideshow": {
     "slide_type": "fragment"
    }
   },
   "source": [
    "4- Manifold learning for data reduction\n",
    "- Decompose data into low-dimentional emedding space via Isomap\n",
    "- Inspect cluster structure along the principal axes of variation"
   ]
  },
  {
   "cell_type": "markdown",
   "metadata": {
    "slideshow": {
     "slide_type": "fragment"
    }
   },
   "source": [
    "5- Learn something new\n",
    "- Subtype daily activity based on feature differences in each cluster\n"
   ]
  },
  {
   "cell_type": "markdown",
   "metadata": {
    "slideshow": {
     "slide_type": "slide"
    }
   },
   "source": [
    "<center> <img src=\"./FIGS/PrecisionRunning_samples_features.png\" alt=\"Drawing\" width='100%'> <center>\n"
   ]
  },
  {
   "cell_type": "markdown",
   "metadata": {
    "slideshow": {
     "slide_type": "slide"
    }
   },
   "source": [
    "<center> <img src=\"./FIGS/PrecisionRunning_cluster_all.png\" alt=\"Drawing\" width='100%'> <center>\n"
   ]
  },
  {
   "cell_type": "markdown",
   "metadata": {
    "slideshow": {
     "slide_type": "slide"
    }
   },
   "source": [
    "<center> <img src=\"./FIGS/PrecisionRunning_cluster_run.png\" alt=\"Drawing\" width='100%'> <center>\n"
   ]
  },
  {
   "cell_type": "markdown",
   "metadata": {
    "slideshow": {
     "slide_type": "slide"
    }
   },
   "source": [
    "# Main Findings:"
   ]
  },
  {
   "cell_type": "markdown",
   "metadata": {
    "slideshow": {
     "slide_type": "slide"
    }
   },
   "source": [
    "1- Total running distance and average pace are increasing over time. \n",
    "    - Initial objectives achieved\n",
    "    - target next milestones\n"
   ]
  },
  {
   "cell_type": "markdown",
   "metadata": {
    "slideshow": {
     "slide_type": "fragment"
    }
   },
   "source": [
    "2- Daily (N=488) structure is broken down into:\n",
    "    - (a) Walking days \n",
    "    - (b) Running days\n",
    "    - (c) Days with extreme activity (Running at high pace with elevation)."
   ]
  },
  {
   "cell_type": "markdown",
   "metadata": {
    "slideshow": {
     "slide_type": "fragment"
    }
   },
   "source": [
    "3- Running day (N=245) structure are broken down into:\n",
    "    - (a) Short distance (~5km) with fast pace (5:22 min/km) running days \n",
    "    - (b) Medium distance (~10km) with fast pace (5:22 min/km) running days \n",
    "    - (c) Long distance (10+km) with high elevation gain."
   ]
  },
  {
   "cell_type": "markdown",
   "metadata": {
    "slideshow": {
     "slide_type": "fragment"
    }
   },
   "source": [
    "- For the most part, this in line with the training regimen which includes:\n",
    "    - (a) 5km fast pace runs\n",
    "    - (b) 10km recovery runs\n",
    "    - (c) HITT: High-intensity Interval runs (5-10km)\n",
    "    - (d) Long-distance mountain trail runs."
   ]
  },
  {
   "cell_type": "markdown",
   "metadata": {
    "slideshow": {
     "slide_type": "slide"
    }
   },
   "source": [
    "# Limitations:\n"
   ]
  },
  {
   "cell_type": "markdown",
   "metadata": {
    "slideshow": {
     "slide_type": "fragment"
    }
   },
   "source": [
    "- Digital sensor measures of elevation gain in indoor runs are not accurate. \n",
    "    - This would have a strong impact on tracking elevation run progress and the clustering of daily acitivity .\n",
    "\n"
   ]
  },
  {
   "cell_type": "markdown",
   "metadata": {
    "slideshow": {
     "slide_type": "fragment"
    }
   },
   "source": [
    "- Seasonal effects: n_sample acquisition is not harmonized over the different seasons.\n",
    "    - Samples include N=2 Winter/Fall months and N=1 Summer/Spring months.\n",
    "    - Lack of samples acuired at high tempreture may influence feature values and tracking progress."
   ]
  },
  {
   "cell_type": "markdown",
   "metadata": {
    "slideshow": {
     "slide_type": "slide"
    }
   },
   "source": [
    "# Future Directions:\n"
   ]
  },
  {
   "cell_type": "markdown",
   "metadata": {
    "slideshow": {
     "slide_type": "fragment"
    }
   },
   "source": [
    "- Pace:\n",
    "    - Inspect improvments in 1km/5km/10km pace for the respective runs.\n",
    "\n",
    "- Digital Sensor:\n",
    "    - Study the landscape and identify more accurate measurment devices to track speed and elevation.\n"
   ]
  },
  {
   "cell_type": "markdown",
   "metadata": {
    "slideshow": {
     "slide_type": "slide"
    }
   },
   "source": [
    "<center> <h1> Thank you for your attention! <h1><center>\n",
    "<center> <img src=\"./FIGS/X1.jpg\" alt=\"Drawing\" width='100%'> <center>\n"
   ]
  }
 ],
 "metadata": {
  "celltoolbar": "Slideshow",
  "kernelspec": {
   "display_name": "Python 2",
   "language": "python",
   "name": "python2"
  },
  "language_info": {
   "codemirror_mode": {
    "name": "ipython",
    "version": 2
   },
   "file_extension": ".py",
   "mimetype": "text/x-python",
   "name": "python",
   "nbconvert_exporter": "python",
   "pygments_lexer": "ipython2",
   "version": "2.7.13"
  }
 },
 "nbformat": 4,
 "nbformat_minor": 1
}
